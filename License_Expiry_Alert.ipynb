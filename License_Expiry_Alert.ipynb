{
 "cells": [
  {
   "cell_type": "code",
   "execution_count": 1,
   "id": "735ca2bd",
   "metadata": {},
   "outputs": [],
   "source": [
    "from random import randint\n",
    "import json\n",
    "import pandas as pd\n",
    "from datetime import datetime"
   ]
  },
  {
   "cell_type": "markdown",
   "id": "8b205de6",
   "metadata": {},
   "source": [
    "## Data Generator"
   ]
  },
  {
   "cell_type": "code",
   "execution_count": 2,
   "id": "2559b861",
   "metadata": {},
   "outputs": [],
   "source": [
    "# Gnerating Date Renewal Date\n",
    "day =[]\n",
    "month =[]\n",
    "year = []\n",
    "\n",
    "for i in range(10000):\n",
    "    year.append(randint(2001,2021))\n",
    "    month.append(randint(1,12))\n",
    "    if(month[i]!=2):\n",
    "        day.append(randint(1,31))\n",
    "    elif(year[i]%4==0):\n",
    "        day.append(randint(1,29))\n",
    "    else:\n",
    "        day.append(randint(1,28))\n",
    "\n",
    "#Generating License plate\n",
    "license_num = []\n",
    "state = ['AN','AP','AR','AS','BR','CH','DN','DD','DL','GA','GJ','HR','HP','JK','KA','KL','LD','MP','MH','MN','ML','MZ','NL','OR','PY','PN','RJ','SK','TN','TR','UP','WB']\n",
    "num_st = []\n",
    "for i in range(10000):\n",
    "    num_st.append(state[randint(0,31)])\n",
    "    num_st[i] += \" \"\n",
    "    num_st[i] += str(randint(0,9))\n",
    "    num_st[i] += str(randint(0,9))\n",
    "    num_st[i] += \" \"\n",
    "    num_st[i] += chr(randint(65,90))\n",
    "    if(randint(0,1)==0):\n",
    "        num_st[i] += chr(randint(65,90))\n",
    "    num_st[i] += \" \"\n",
    "    num_st[i] += str(randint(0,9))\n",
    "    num_st[i] += str(randint(0,9))\n",
    "    num_st[i] += str(randint(0,9))\n",
    "    num_st[i] += str(randint(0,9))\n",
    "\n",
    "#Generating license plate owner names\n",
    "name =[]\n",
    "for i in range(10000):\n",
    "    name.append('')\n",
    "    for j in range(5):\n",
    "        name[i] += chr(randint(65,90))\n",
    "        \n",
    "#Generating Insurance Renewal Date\n",
    "iday =[]\n",
    "imonth =[]\n",
    "iyear = []\n",
    "\n",
    "for i in range(10000):\n",
    "    iyear.append(randint(2001,2021))\n",
    "    imonth.append(randint(1,12))\n",
    "    if(imonth[i]!=2):\n",
    "        iday.append(randint(1,31))\n",
    "    elif(iyear[i]%4==0):\n",
    "        iday.append(randint(1,29))\n",
    "    else:\n",
    "        iday.append(randint(1,28))\n",
    "\n",
    "validity = 20 #years\n",
    "\n",
    "data = {}\n",
    "data.update({'Licnum':num_st,'Name':name,'LicPreday':day,'LicPreMon':month,'LicPreYear':year,'LicExpStatus':[\" \" for x in range(len(year))],\n",
    "            'InsPreday':iday, 'InsPreMon':imonth, 'InsPreYear':iyear, 'InsExpStatus':[\" \" for x in range(len(iyear))]})\n",
    "  \n",
    "f = open('Data.json','w')        \n",
    "f.write(json.dumps(data))   \n",
    "f.close() "
   ]
  },
  {
   "cell_type": "markdown",
   "id": "59906d39",
   "metadata": {},
   "source": [
    "## Read Dict and DataFrame from JSON file "
   ]
  },
  {
   "cell_type": "code",
   "execution_count": 8,
   "id": "5d95bcef",
   "metadata": {},
   "outputs": [],
   "source": [
    "with open('Data.json' ,'r') as file:\n",
    "            jdata = json.loads(file.read()) "
   ]
  },
  {
   "cell_type": "code",
   "execution_count": 9,
   "id": "cd976407",
   "metadata": {},
   "outputs": [],
   "source": [
    "data = pd.read_json('Data.json')"
   ]
  },
  {
   "cell_type": "markdown",
   "id": "73c745f8",
   "metadata": {},
   "source": [
    "## Updating the License Expiry status"
   ]
  },
  {
   "cell_type": "code",
   "execution_count": 5,
   "id": "199b8e56",
   "metadata": {},
   "outputs": [],
   "source": [
    "for i in range(len(jdata['Licnum'])):\n",
    "    jdata['LicExpStatus'][i] = 'Valid'\n",
    "\n",
    "validity = 20 #year\n",
    "\n",
    "year = int(str(datetime.now())[:4])\n",
    "mon = int(str(datetime.now())[5:7])\n",
    "day = int(str(datetime.now())[8:10])\n",
    "\n",
    "dyear = data[data['LicPreYear']<=year-validity]\n",
    "dmon = dyear[dyear['LicPreMon']<=mon]\n",
    "dday = dmon[dmon['LicPreday']<=day]\n",
    "\n",
    "licnum = list(dday['Licnum'])\n",
    "\n",
    "for i in licnum:\n",
    "    if i in jdata['Licnum']:\n",
    "        jdata['LicExpStatus'][jdata['Licnum'].index(i)] = 'Expired'\n"
   ]
  },
  {
   "cell_type": "markdown",
   "id": "5c4e44eb",
   "metadata": {},
   "source": [
    "## Updating the Insurance Expiry status"
   ]
  },
  {
   "cell_type": "code",
   "execution_count": 6,
   "id": "0264c1ea",
   "metadata": {},
   "outputs": [],
   "source": [
    "for i in range(len(jdata['Licnum'])):\n",
    "    jdata['InsExpStatus'][i] = 'Valid'\n",
    "\n",
    "validity = 20\n",
    "\n",
    "year = int(str(datetime.now())[:4])\n",
    "mon = int(str(datetime.now())[5:7])\n",
    "day = int(str(datetime.now())[8:10])\n",
    "\n",
    "dyear = data[data['InsPreYear']<=year-validity]\n",
    "dmon = dyear[dyear['InsPreMon']<=mon]\n",
    "dday = dmon[dmon['InsPreday']<=day]\n",
    "\n",
    "licnum = list(dday['Licnum'])\n",
    "\n",
    "for i in licnum:\n",
    "    if i in jdata['Licnum']:\n",
    "        jdata['InsExpStatus'][jdata['Licnum'].index(i)] = 'Expired'"
   ]
  },
  {
   "cell_type": "markdown",
   "id": "cdbb2a99",
   "metadata": {},
   "source": [
    "## Writing the updated IES and LES in the json file"
   ]
  },
  {
   "cell_type": "code",
   "execution_count": 7,
   "id": "8889a57f",
   "metadata": {},
   "outputs": [],
   "source": [
    "f = open('Data.json','w')        \n",
    "f.write(json.dumps(jdata))   \n",
    "f.close()"
   ]
  },
  {
   "cell_type": "markdown",
   "id": "56e27792",
   "metadata": {},
   "source": [
    "## Data Analytics of registered car vs year"
   ]
  },
  {
   "cell_type": "code",
   "execution_count": 10,
   "id": "450fdaf6",
   "metadata": {
    "scrolled": false
   },
   "outputs": [
    {
     "data": {
      "text/html": [
       "<div>\n",
       "<style scoped>\n",
       "    .dataframe tbody tr th:only-of-type {\n",
       "        vertical-align: middle;\n",
       "    }\n",
       "\n",
       "    .dataframe tbody tr th {\n",
       "        vertical-align: top;\n",
       "    }\n",
       "\n",
       "    .dataframe thead th {\n",
       "        text-align: right;\n",
       "    }\n",
       "</style>\n",
       "<table border=\"1\" class=\"dataframe\">\n",
       "  <thead>\n",
       "    <tr style=\"text-align: right;\">\n",
       "      <th></th>\n",
       "      <th>Licnum</th>\n",
       "      <th>Name</th>\n",
       "      <th>LicPreday</th>\n",
       "      <th>LicPreMon</th>\n",
       "      <th>LicPreYear</th>\n",
       "      <th>LicExpStatus</th>\n",
       "      <th>InsPreday</th>\n",
       "      <th>InsPreMon</th>\n",
       "      <th>InsPreYear</th>\n",
       "      <th>InsExpStatus</th>\n",
       "    </tr>\n",
       "  </thead>\n",
       "  <tbody>\n",
       "    <tr>\n",
       "      <th>0</th>\n",
       "      <td>ML 83 JC 2554</td>\n",
       "      <td>HNVCE</td>\n",
       "      <td>22</td>\n",
       "      <td>8</td>\n",
       "      <td>2001</td>\n",
       "      <td>Expired</td>\n",
       "      <td>3</td>\n",
       "      <td>8</td>\n",
       "      <td>2014</td>\n",
       "      <td>Valid</td>\n",
       "    </tr>\n",
       "    <tr>\n",
       "      <th>1</th>\n",
       "      <td>DL 72 EW 7770</td>\n",
       "      <td>CPSYI</td>\n",
       "      <td>14</td>\n",
       "      <td>4</td>\n",
       "      <td>2001</td>\n",
       "      <td>Expired</td>\n",
       "      <td>24</td>\n",
       "      <td>7</td>\n",
       "      <td>2012</td>\n",
       "      <td>Valid</td>\n",
       "    </tr>\n",
       "    <tr>\n",
       "      <th>2</th>\n",
       "      <td>WB 09 KS 2699</td>\n",
       "      <td>POTBC</td>\n",
       "      <td>27</td>\n",
       "      <td>9</td>\n",
       "      <td>2020</td>\n",
       "      <td>Valid</td>\n",
       "      <td>10</td>\n",
       "      <td>2</td>\n",
       "      <td>2014</td>\n",
       "      <td>Valid</td>\n",
       "    </tr>\n",
       "    <tr>\n",
       "      <th>3</th>\n",
       "      <td>UP 24 W 0443</td>\n",
       "      <td>KMOTB</td>\n",
       "      <td>1</td>\n",
       "      <td>4</td>\n",
       "      <td>2001</td>\n",
       "      <td>Expired</td>\n",
       "      <td>18</td>\n",
       "      <td>10</td>\n",
       "      <td>2019</td>\n",
       "      <td>Valid</td>\n",
       "    </tr>\n",
       "    <tr>\n",
       "      <th>4</th>\n",
       "      <td>MH 06 P 5537</td>\n",
       "      <td>RCCBW</td>\n",
       "      <td>6</td>\n",
       "      <td>10</td>\n",
       "      <td>2008</td>\n",
       "      <td>Valid</td>\n",
       "      <td>31</td>\n",
       "      <td>4</td>\n",
       "      <td>2013</td>\n",
       "      <td>Valid</td>\n",
       "    </tr>\n",
       "  </tbody>\n",
       "</table>\n",
       "</div>"
      ],
      "text/plain": [
       "          Licnum   Name  LicPreday  LicPreMon  LicPreYear LicExpStatus  \\\n",
       "0  ML 83 JC 2554  HNVCE         22          8        2001      Expired   \n",
       "1  DL 72 EW 7770  CPSYI         14          4        2001      Expired   \n",
       "2  WB 09 KS 2699  POTBC         27          9        2020        Valid   \n",
       "3   UP 24 W 0443  KMOTB          1          4        2001      Expired   \n",
       "4   MH 06 P 5537  RCCBW          6         10        2008        Valid   \n",
       "\n",
       "   InsPreday  InsPreMon  InsPreYear InsExpStatus  \n",
       "0          3          8        2014        Valid  \n",
       "1         24          7        2012        Valid  \n",
       "2         10          2        2014        Valid  \n",
       "3         18         10        2019        Valid  \n",
       "4         31          4        2013        Valid  "
      ]
     },
     "execution_count": 10,
     "metadata": {},
     "output_type": "execute_result"
    }
   ],
   "source": [
    "data.head()"
   ]
  },
  {
   "cell_type": "code",
   "execution_count": 9,
   "id": "b0a866ef",
   "metadata": {
    "scrolled": true
   },
   "outputs": [
    {
     "data": {
      "text/plain": [
       "<AxesSubplot:xlabel='Year'>"
      ]
     },
     "execution_count": 9,
     "metadata": {},
     "output_type": "execute_result"
    },
    {
     "data": {
      "image/png": "[encoded data removed]",
      "text/plain": [
       "<Figure size 720x360 with 1 Axes>"
      ]
     },
     "metadata": {
      "needs_background": "light"
     },
     "output_type": "display_data"
    }
   ],
   "source": [
    "years = data['LicPreYear'].sort_values().unique()\n",
    "dt = []\n",
    "for i in years:\n",
    "    dt.append([i,len(data[data['LicPreYear'] == i])])\n",
    "dt = pd.DataFrame(dt,columns=['Year','Renewed'])\n",
    "dt.plot(x = 'Year',y = 'Renewed',kind = 'bar',figsize = (10,5))"
   ]
  },
  {
   "cell_type": "markdown",
   "id": "909c924e",
   "metadata": {},
   "source": [
    "## License expiry vehichle's details"
   ]
  },
  {
   "cell_type": "code",
   "execution_count": 10,
   "id": "e867d822",
   "metadata": {
    "scrolled": false
   },
   "outputs": [
    {
     "data": {
      "text/plain": [
       "array([2001, 2002, 2003, 2004, 2005, 2006, 2007, 2008, 2009, 2010, 2011,\n",
       "       2012, 2013, 2014, 2015, 2016, 2017, 2018, 2019, 2020, 2021],\n",
       "      dtype=int64)"
      ]
     },
     "execution_count": 10,
     "metadata": {},
     "output_type": "execute_result"
    }
   ],
   "source": [
    "data['LicPreYear'].sort_values().unique()"
   ]
  },
  {
   "cell_type": "code",
   "execution_count": 11,
   "id": "814b9576",
   "metadata": {},
   "outputs": [
    {
     "name": "stdout",
     "output_type": "stream",
     "text": [
      "['TN 44 LF 1794', 'UP 89 LV 4586', 'UP 50 S 6663', 'KL 72 VY 2206', 'TN 10 TM 1325', 'OR 04 W 2827', 'HR 33 X 7838', 'AR 52 U 9222', 'TN 25 KM 5869', 'AP 14 G 1746', 'AN 05 U 0613', 'KL 24 V 8822', 'AN 16 AE 8146', 'LD 79 AG 8676', 'OR 65 K 0171', 'PN 98 N 3480', 'UP 91 KF 3979', 'BR 60 X 1341', 'JK 75 MY 8546', 'GJ 21 H 3244', 'TR 88 L 4590', 'UP 98 E 5729', 'DN 28 QI 2132', 'JK 60 UC 9841', 'PY 82 ID 6967', 'CH 35 JN 0820', 'DN 01 DN 2308', 'KL 06 E 9027', 'AS 38 RC 4654', 'AS 42 BN 4740', 'WB 04 QR 6897', 'TR 98 F 8435', 'WB 57 VL 5704', 'TN 62 C 2786', 'PY 79 S 7747', 'BR 69 TM 3173', 'HP 99 DE 3962', 'GA 49 AQ 2153', 'DN 76 R 2925', 'DN 12 C 5922', 'DL 99 ZK 5531', 'ML 41 S 9907', 'GJ 72 B 6129', 'JK 58 W 5960', 'GA 17 ER 5543', 'PY 69 S 5787', 'TR 27 S 4041', 'MP 84 Z 9544', 'AS 05 H 3816', 'MH 83 J 1666', 'CH 10 YU 1962', 'RJ 64 HE 5519', 'KL 01 I 7055', 'DL 12 U 6864', 'TR 17 OD 2009', 'GA 40 Z 4994', 'RJ 50 V 4906', 'PN 46 LA 8779', 'TR 26 D 7630', 'UP 74 T 6163', 'DL 34 A 4750', 'GA 32 KB 4164', 'MP 85 F 3193', 'KA 22 XY 4280', 'GA 49 K 4137', 'GJ 11 QW 6093', 'JK 14 YL 3719', 'ML 74 XT 3663', 'BR 37 SV 7980', 'MH 57 Y 0352', 'PN 78 G 8193', 'ML 37 S 6957', 'GA 01 TG 4293', 'LD 08 L 9087', 'DL 75 KU 4364', 'MN 84 HD 5418', 'PN 65 W 3639', 'OR 54 N 8489', 'GJ 63 ST 0960', 'DD 53 N 4511', 'AR 27 JZ 2170', 'MP 08 U 1735', 'RJ 95 P 4281', 'TN 55 H 2354', 'WB 09 HL 2847', 'MZ 46 NS 5780', 'BR 35 OV 5620', 'TN 09 O 2437', 'GA 24 UV 9253', 'LD 11 H 3162', 'OR 74 BE 8397', 'RJ 71 LU 5544', 'SK 17 F 0844', 'MP 72 F 5746', 'PY 67 IP 9888', 'LD 60 TM 0486', 'MP 10 U 2982', 'JK 40 LX 3716', 'JK 00 DT 1566', 'TN 38 VK 4801', 'AP 60 K 4506', 'JK 41 N 6556', 'JK 31 I 9088', 'MP 07 YA 9360', 'MH 86 II 1613', 'AN 40 IQ 8161', 'LD 25 K 6361', 'OR 54 UY 5143', 'KA 13 UK 7996', 'PY 86 V 3096', 'DL 52 S 3624', 'PY 84 FS 1308', 'HR 81 V 6395', 'AN 63 SR 9569', 'SK 26 DQ 3702', 'PN 50 Z 5558', 'MH 74 B 6771', 'SK 09 RT 8267', 'TN 71 UD 5755', 'TN 33 WZ 4399', 'HR 28 US 1500', 'PY 00 YB 7572', 'DD 59 TP 3059', 'WB 72 US 8473', 'BR 44 V 3065', 'TR 27 E 2272', 'KL 97 X 1086', 'GJ 01 CD 1039', 'AP 61 J 0153', 'WB 27 U 8467', 'HR 45 HL 6538', 'UP 93 WD 0948', 'BR 66 H 1549', 'SK 31 UE 8984', 'WB 62 PH 9226', 'DN 40 T 2496', 'GJ 12 Q 9883', 'GA 26 F 6582', 'GA 13 J 9279', 'LD 52 C 8705', 'GJ 32 F 2458', 'KA 86 GF 8438', 'LD 92 WB 3052', 'AN 57 E 8205', 'AR 03 RC 5936', 'KL 24 BC 6803', 'NL 99 OO 2918', 'TR 40 I 1569', 'KA 29 WP 3563', 'SK 00 W 6761', 'MH 79 H 8173', 'AS 48 B 8349', 'TN 14 RC 7808', 'KA 34 F 4543', 'UP 25 U 5560', 'HR 84 D 8506', 'WB 09 JP 9360', 'KL 55 QC 7599', 'AP 02 V 7155', 'GA 46 Q 3519', 'GJ 73 XO 2134', 'MN 00 HA 2175', 'HR 63 I 2534', 'MH 99 EP 7273', 'KA 08 O 6724', 'DD 79 J 3946', 'AP 67 PA 2642', 'DL 34 WJ 2380', 'PN 86 C 6972', 'AR 34 U 4500', 'DN 83 V 1780', 'PY 34 CK 5643', 'GA 75 S 5652', 'LD 33 F 2410', 'MH 20 H 2732', 'AP 53 D 0878', 'SK 48 AF 8307', 'DD 13 X 9844', 'MZ 53 W 5338', 'JK 62 BG 2007', 'KL 68 YJ 5665', 'AS 92 UI 6643', 'AR 09 L 6378', 'AP 81 I 6808', 'HP 48 KM 9192', 'AR 20 IS 7371', 'AP 02 N 3289', 'AR 86 TZ 6828', 'UP 57 C 2355', 'CH 15 T 5045', 'MN 95 O 4963', 'MZ 52 TR 0012', 'KL 55 S 2513', 'JK 27 DU 3156', 'OR 44 B 8477', 'HR 17 QF 8088', 'DL 41 WW 7436', 'GJ 29 OJ 6393', 'WB 87 M 5128', 'OR 37 MP 8717', 'AS 34 Q 6191', 'BR 95 WM 9976', 'RJ 56 PN 0305', 'AS 07 X 8235', 'LD 15 M 3600', 'JK 88 ZA 7761', 'BR 56 R 5535', 'KA 25 AI 9044', 'JK 61 N 5473', 'KL 31 FA 2878', 'TR 12 PI 9545', 'RJ 94 YH 5193', 'DL 09 VQ 3598', 'CH 36 ZB 5836', 'NL 52 QJ 2226', 'RJ 59 O 3486', 'SK 63 K 3544', 'SK 73 Y 1909', 'KA 36 DN 9468', 'KA 37 VX 2837', 'WB 70 LV 6306', 'PY 97 JU 1547', 'MP 66 B 1249', 'OR 00 H 0091', 'AR 34 H 2345', 'TN 60 NT 2483', 'HP 85 HF 0946', 'SK 91 L 9014', 'ML 92 RX 1167', 'KA 43 A 0432', 'PN 69 UI 7609', 'HP 82 EU 7454', 'KA 24 CD 1265', 'UP 49 E 8861', 'HP 31 V 1870', 'MN 88 Z 8093', 'PN 78 HF 9837', 'AP 39 J 5963', 'DD 24 D 0269', 'AN 66 S 4210', 'RJ 93 J 0518', 'RJ 37 BX 8998', 'MN 44 L 9336', 'MZ 75 OB 2978', 'DD 05 A 1873', 'DL 03 K 7759', 'AP 61 WE 0090', 'TN 18 QD 2169', 'KL 93 EW 9783', 'BR 00 A 3444', 'WB 44 P 1921', 'AN 84 SG 4292', 'RJ 41 DS 1044', 'TN 52 L 8254', 'MN 83 H 4610', 'NL 63 QB 8729', 'MZ 33 O 4067', 'RJ 18 V 4275', 'DN 36 FH 3875', 'GJ 78 WM 0076', 'BR 01 SA 9840', 'AP 16 EH 9413', 'MP 61 P 4499', 'MN 20 XZ 2745', 'MP 59 T 4803', 'MZ 10 GE 3800', 'AR 71 QV 9213', 'BR 99 OC 7287', 'HP 44 V 3947', 'DL 97 E 0518', 'SK 63 E 9141', 'CH 62 I 4436', 'UP 16 L 0254', 'AR 66 IC 7553', 'OR 55 QY 8294', 'MH 36 GL 1617', 'MN 40 SO 2350', 'KA 44 N 6389', 'MZ 44 FA 1755', 'SK 84 CM 6680', 'SK 87 TP 3694', 'MZ 56 H 2107', 'NL 82 A 0653', 'HP 87 C 3799', 'UP 28 AQ 1800', 'MN 08 Z 3984', 'ML 72 RG 3689', 'RJ 66 P 0745', 'OR 49 EG 2627', 'MN 54 OD 1854', 'NL 94 Y 5390', 'UP 91 CA 8489', 'HR 21 S 5613', 'AR 63 I 1344', 'KA 31 F 4047', 'HR 99 FC 3053', 'MP 34 X 9965', 'BR 06 A 5027', 'MP 66 E 4112', 'AP 92 V 1115', 'DD 36 BG 5874', 'AS 78 N 4538', 'UP 20 CR 2716', 'MH 94 H 8689', 'PN 56 ON 0005', 'TN 96 U 1611', 'DL 66 V 4406', 'DN 46 Y 6680', 'TN 82 ZQ 6009', 'AN 66 CK 7898', 'KL 66 U 6576', 'RJ 87 BU 1872', 'PY 31 CR 3954', 'MZ 11 T 1149', 'JK 29 IR 7408', 'HP 68 CJ 3775', 'HP 89 ZX 1522', 'AR 70 Z 5652', 'TN 41 JE 1022', 'CH 91 ZT 1607', 'LD 67 VG 6168', 'ML 93 J 4882', 'DL 56 VQ 8238', 'BR 32 R 8366', 'CH 33 J 2545', 'DL 20 MH 3175', 'TR 72 GK 7593', 'MN 93 A 5386', 'WB 06 U 5211', 'PN 77 FS 9641', 'MH 54 ED 2230', 'KA 33 OS 3391', 'OR 71 N 6191', 'MZ 07 KK 7567', 'JK 82 X 5122', 'DL 55 L 4806', 'AR 96 H 2675', 'WB 37 S 3108', 'DL 49 F 3265', 'HR 62 V 4097', 'CH 02 X 5203', 'MN 56 EF 4620', 'HP 28 EV 9636', 'HR 32 HH 7175', 'PN 15 WA 7996', 'DL 60 K 9203', 'MP 44 V 6433', 'LD 41 CM 7475', 'TN 25 N 9971', 'MN 94 M 1483', 'BR 55 KP 2456', 'WB 58 C 8167', 'TN 65 ZE 8268']\n"
     ]
    }
   ],
   "source": [
    "l = [x for x in jdata['Licnum'] if(jdata['LicExpStatus'][jdata['Licnum'].index(x)]=='Expired')]\n",
    "print(l)"
   ]
  },
  {
   "cell_type": "code",
   "execution_count": 12,
   "id": "4d3065fb",
   "metadata": {
    "scrolled": true
   },
   "outputs": [
    {
     "data": {
      "text/plain": [
       "353"
      ]
     },
     "execution_count": 12,
     "metadata": {},
     "output_type": "execute_result"
    }
   ],
   "source": [
    "len(l)"
   ]
  },
  {
   "cell_type": "code",
   "execution_count": 15,
   "id": "6087d520",
   "metadata": {
    "scrolled": true
   },
   "outputs": [
    {
     "data": {
      "text/html": [
       "<div>\n",
       "<style scoped>\n",
       "    .dataframe tbody tr th:only-of-type {\n",
       "        vertical-align: middle;\n",
       "    }\n",
       "\n",
       "    .dataframe tbody tr th {\n",
       "        vertical-align: top;\n",
       "    }\n",
       "\n",
       "    .dataframe thead th {\n",
       "        text-align: right;\n",
       "    }\n",
       "</style>\n",
       "<table border=\"1\" class=\"dataframe\">\n",
       "  <thead>\n",
       "    <tr style=\"text-align: right;\">\n",
       "      <th></th>\n",
       "      <th>Licnum</th>\n",
       "      <th>Name</th>\n",
       "      <th>LicPreday</th>\n",
       "      <th>LicPreMon</th>\n",
       "      <th>LicPreYear</th>\n",
       "      <th>LicExpStatus</th>\n",
       "      <th>InsPreday</th>\n",
       "      <th>InsPreMon</th>\n",
       "      <th>InsPreYear</th>\n",
       "      <th>InsExpStatus</th>\n",
       "    </tr>\n",
       "  </thead>\n",
       "  <tbody>\n",
       "    <tr>\n",
       "      <th>0</th>\n",
       "      <td>TN 44 LF 1794</td>\n",
       "      <td>LKELW</td>\n",
       "      <td>2</td>\n",
       "      <td>7</td>\n",
       "      <td>2001</td>\n",
       "      <td>Expired</td>\n",
       "      <td>18</td>\n",
       "      <td>3</td>\n",
       "      <td>2019</td>\n",
       "      <td>Valid</td>\n",
       "    </tr>\n",
       "    <tr>\n",
       "      <th>38</th>\n",
       "      <td>UP 89 LV 4586</td>\n",
       "      <td>XYFWR</td>\n",
       "      <td>14</td>\n",
       "      <td>4</td>\n",
       "      <td>2001</td>\n",
       "      <td>Expired</td>\n",
       "      <td>25</td>\n",
       "      <td>4</td>\n",
       "      <td>2014</td>\n",
       "      <td>Valid</td>\n",
       "    </tr>\n",
       "    <tr>\n",
       "      <th>43</th>\n",
       "      <td>UP 50 S 6663</td>\n",
       "      <td>LKVNG</td>\n",
       "      <td>3</td>\n",
       "      <td>1</td>\n",
       "      <td>2001</td>\n",
       "      <td>Expired</td>\n",
       "      <td>30</td>\n",
       "      <td>7</td>\n",
       "      <td>2013</td>\n",
       "      <td>Valid</td>\n",
       "    </tr>\n",
       "    <tr>\n",
       "      <th>70</th>\n",
       "      <td>KL 72 VY 2206</td>\n",
       "      <td>RQYCP</td>\n",
       "      <td>16</td>\n",
       "      <td>6</td>\n",
       "      <td>2001</td>\n",
       "      <td>Expired</td>\n",
       "      <td>17</td>\n",
       "      <td>6</td>\n",
       "      <td>2013</td>\n",
       "      <td>Valid</td>\n",
       "    </tr>\n",
       "    <tr>\n",
       "      <th>113</th>\n",
       "      <td>TN 10 TM 1325</td>\n",
       "      <td>OYIBG</td>\n",
       "      <td>15</td>\n",
       "      <td>5</td>\n",
       "      <td>2001</td>\n",
       "      <td>Expired</td>\n",
       "      <td>25</td>\n",
       "      <td>5</td>\n",
       "      <td>2018</td>\n",
       "      <td>Valid</td>\n",
       "    </tr>\n",
       "    <tr>\n",
       "      <th>...</th>\n",
       "      <td>...</td>\n",
       "      <td>...</td>\n",
       "      <td>...</td>\n",
       "      <td>...</td>\n",
       "      <td>...</td>\n",
       "      <td>...</td>\n",
       "      <td>...</td>\n",
       "      <td>...</td>\n",
       "      <td>...</td>\n",
       "      <td>...</td>\n",
       "    </tr>\n",
       "    <tr>\n",
       "      <th>9930</th>\n",
       "      <td>TN 25 N 9971</td>\n",
       "      <td>DQZKJ</td>\n",
       "      <td>20</td>\n",
       "      <td>4</td>\n",
       "      <td>2001</td>\n",
       "      <td>Expired</td>\n",
       "      <td>7</td>\n",
       "      <td>6</td>\n",
       "      <td>2005</td>\n",
       "      <td>Valid</td>\n",
       "    </tr>\n",
       "    <tr>\n",
       "      <th>9945</th>\n",
       "      <td>MN 94 M 1483</td>\n",
       "      <td>POETZ</td>\n",
       "      <td>13</td>\n",
       "      <td>9</td>\n",
       "      <td>2001</td>\n",
       "      <td>Expired</td>\n",
       "      <td>17</td>\n",
       "      <td>2</td>\n",
       "      <td>2016</td>\n",
       "      <td>Valid</td>\n",
       "    </tr>\n",
       "    <tr>\n",
       "      <th>9973</th>\n",
       "      <td>BR 55 KP 2456</td>\n",
       "      <td>QXDAO</td>\n",
       "      <td>25</td>\n",
       "      <td>3</td>\n",
       "      <td>2001</td>\n",
       "      <td>Expired</td>\n",
       "      <td>5</td>\n",
       "      <td>11</td>\n",
       "      <td>2013</td>\n",
       "      <td>Valid</td>\n",
       "    </tr>\n",
       "    <tr>\n",
       "      <th>9984</th>\n",
       "      <td>WB 58 C 8167</td>\n",
       "      <td>MIWRO</td>\n",
       "      <td>14</td>\n",
       "      <td>6</td>\n",
       "      <td>2001</td>\n",
       "      <td>Expired</td>\n",
       "      <td>16</td>\n",
       "      <td>6</td>\n",
       "      <td>2005</td>\n",
       "      <td>Valid</td>\n",
       "    </tr>\n",
       "    <tr>\n",
       "      <th>9990</th>\n",
       "      <td>TN 65 ZE 8268</td>\n",
       "      <td>MIOAX</td>\n",
       "      <td>17</td>\n",
       "      <td>7</td>\n",
       "      <td>2001</td>\n",
       "      <td>Expired</td>\n",
       "      <td>28</td>\n",
       "      <td>7</td>\n",
       "      <td>2009</td>\n",
       "      <td>Valid</td>\n",
       "    </tr>\n",
       "  </tbody>\n",
       "</table>\n",
       "<p>353 rows × 10 columns</p>\n",
       "</div>"
      ],
      "text/plain": [
       "             Licnum   Name  LicPreday  LicPreMon  LicPreYear LicExpStatus  \\\n",
       "0     TN 44 LF 1794  LKELW          2          7        2001      Expired   \n",
       "38    UP 89 LV 4586  XYFWR         14          4        2001      Expired   \n",
       "43     UP 50 S 6663  LKVNG          3          1        2001      Expired   \n",
       "70    KL 72 VY 2206  RQYCP         16          6        2001      Expired   \n",
       "113   TN 10 TM 1325  OYIBG         15          5        2001      Expired   \n",
       "...             ...    ...        ...        ...         ...          ...   \n",
       "9930   TN 25 N 9971  DQZKJ         20          4        2001      Expired   \n",
       "9945   MN 94 M 1483  POETZ         13          9        2001      Expired   \n",
       "9973  BR 55 KP 2456  QXDAO         25          3        2001      Expired   \n",
       "9984   WB 58 C 8167  MIWRO         14          6        2001      Expired   \n",
       "9990  TN 65 ZE 8268  MIOAX         17          7        2001      Expired   \n",
       "\n",
       "      InsPreday  InsPreMon  InsPreYear InsExpStatus  \n",
       "0            18          3        2019        Valid  \n",
       "38           25          4        2014        Valid  \n",
       "43           30          7        2013        Valid  \n",
       "70           17          6        2013        Valid  \n",
       "113          25          5        2018        Valid  \n",
       "...         ...        ...         ...          ...  \n",
       "9930          7          6        2005        Valid  \n",
       "9945         17          2        2016        Valid  \n",
       "9973          5         11        2013        Valid  \n",
       "9984         16          6        2005        Valid  \n",
       "9990         28          7        2009        Valid  \n",
       "\n",
       "[353 rows x 10 columns]"
      ]
     },
     "execution_count": 15,
     "metadata": {},
     "output_type": "execute_result"
    }
   ],
   "source": [
    "data[data['LicExpStatus']=='Expired']"
   ]
  },
  {
   "cell_type": "markdown",
   "id": "2492c9d0",
   "metadata": {},
   "source": [
    "## Insurance expiry vehichle's details"
   ]
  },
  {
   "cell_type": "code",
   "execution_count": 16,
   "id": "4f7b0673",
   "metadata": {
    "scrolled": true
   },
   "outputs": [
    {
     "data": {
      "text/plain": [
       "array([2001, 2002, 2003, 2004, 2005, 2006, 2007, 2008, 2009, 2010, 2011,\n",
       "       2012, 2013, 2014, 2015, 2016, 2017, 2018, 2019, 2020, 2021],\n",
       "      dtype=int64)"
      ]
     },
     "execution_count": 16,
     "metadata": {},
     "output_type": "execute_result"
    }
   ],
   "source": [
    "data['LicPreYear'].sort_values().unique()"
   ]
  },
  {
   "cell_type": "code",
   "execution_count": 12,
   "id": "4d479c47",
   "metadata": {},
   "outputs": [
    {
     "data": {
      "text/plain": [
       "<AxesSubplot:xlabel='Year'>"
      ]
     },
     "execution_count": 12,
     "metadata": {},
     "output_type": "execute_result"
    },
    {
     "data": {
      "image/png": "[encoded data removed]",
      "text/plain": [
       "<Figure size 720x360 with 1 Axes>"
      ]
     },
     "metadata": {
      "needs_background": "light"
     },
     "output_type": "display_data"
    }
   ],
   "source": [
    "years = data['InsPreYear'].sort_values().unique()\n",
    "dt = []\n",
    "for i in years:\n",
    "    dt.append([i,len(data[data['InsPreYear'] == i])])\n",
    "dt = pd.DataFrame(dt,columns=['Year','Renewed'])\n",
    "dt.plot(x = 'Year',y = 'Renewed',kind = 'bar',figsize = (10,5))"
   ]
  },
  {
   "cell_type": "code",
   "execution_count": 17,
   "id": "777a61e5",
   "metadata": {
    "scrolled": true
   },
   "outputs": [
    {
     "name": "stdout",
     "output_type": "stream",
     "text": [
      "Number of vehichles:  347 \n",
      " ['DN 18 X 2382', 'HP 11 LG 3445', 'OR 81 VV 1927', 'OR 70 GK 1078', 'TN 14 E 4657', 'MZ 11 PP 6971', 'UP 38 HP 3745', 'MP 21 SV 1568', 'BR 91 OG 4081', 'HP 57 N 7043', 'NL 97 MU 8222', 'AP 71 D 5165', 'PN 54 W 0375', 'DN 80 WS 4175', 'NL 34 P 1896', 'KA 55 BD 9869', 'AN 71 O 9611', 'GA 18 HN 2316', 'RJ 48 F 1750', 'MH 21 GZ 0502', 'KL 96 ZD 4913', 'BR 44 T 9224', 'MN 06 DO 5756', 'HR 68 E 5228', 'LD 76 GP 7242', 'WB 19 CX 2409', 'LD 71 ON 6427', 'RJ 42 JA 6013', 'SK 46 E 8680', 'AP 08 Q 8574', 'BR 60 X 1341', 'PY 71 G 8685', 'MZ 95 K 9047', 'OR 38 V 7502', 'AP 20 TP 7554', 'LD 03 C 6190', 'BR 15 SL 1023', 'MN 66 QW 4646', 'MP 62 QO 4427', 'RJ 79 ML 2996', 'MZ 94 I 3832', 'DL 82 TU 5392', 'HR 87 SV 1414', 'AR 70 JH 6320', 'PN 94 I 9354', 'RJ 00 QT 4986', 'NL 80 R 5067', 'GJ 79 UO 7022', 'GJ 11 G 8202', 'NL 85 LG 4878', 'GJ 87 N 0483', 'MH 93 IG 5358', 'NL 27 K 9013', 'AR 28 EI 4381', 'NL 21 HP 6378', 'MH 20 R 7578', 'KL 03 OB 4532', 'GA 49 FE 4052', 'AR 70 R 1620', 'MZ 27 IT 1394', 'KA 42 B 5347', 'WB 49 VI 8679', 'DD 86 Z 8188', 'PN 55 UG 9420', 'LD 92 U 9993', 'HP 50 FI 6892', 'MZ 15 SQ 2226', 'NL 54 BJ 7096', 'AN 67 OG 2284', 'KA 81 B 8417', 'UP 36 AG 9744', 'KA 17 AZ 5721', 'MN 77 K 7485', 'TR 53 U 4459', 'MH 57 Y 0352', 'TN 53 W 8754', 'BR 04 FB 6852', 'CH 41 I 0847', 'GJ 55 F 4013', 'BR 89 A 6182', 'UP 71 ZH 6979', 'DL 09 CF 7956', 'AP 39 LA 4535', 'JK 24 LE 3830', 'LD 61 V 7915', 'TR 89 C 6853', 'KL 44 NN 0437', 'ML 65 R 4138', 'AN 70 J 8040', 'AS 35 C 5746', 'AS 36 Z 3298', 'DL 97 Z 1311', 'KA 95 M 6165', 'UP 77 R 6525', 'LD 29 KQ 5393', 'NL 15 T 0735', 'HP 72 H 0973', 'AP 62 FJ 4410', 'CH 17 U 5787', 'GJ 58 UP 8796', 'DD 00 VH 5826', 'PY 78 X 7275', 'DL 17 D 2511', 'ML 74 PZ 3203', 'TR 49 L 0850', 'CH 34 PO 7715', 'TR 12 ZW 1077', 'DD 19 J 1038', 'MP 12 V 4326', 'AP 95 UU 6529', 'TR 62 Z 6415', 'DL 25 FJ 9521', 'AR 96 H 4371', 'PY 11 O 8554', 'PN 24 VU 7075', 'PN 53 O 7988', 'AN 17 G 2117', 'AN 79 T 3598', 'RJ 93 XK 7801', 'CH 58 N 0953', 'AR 11 J 1362', 'ML 42 ZP 3472', 'DD 52 MN 2148', 'HR 75 Z 2368', 'OR 45 DN 5071', 'HR 48 NK 3233', 'TN 73 GD 7610', 'AR 85 SH 4162', 'GJ 34 B 8861', 'KA 67 Q 3750', 'MN 81 H 2838', 'TN 38 XI 1124', 'AP 55 BW 9105', 'UP 26 VL 3496', 'AS 96 I 3092', 'SK 63 N 9461', 'MN 64 A 8750', 'GA 60 N 9491', 'HP 91 CX 8901', 'MP 26 G 7211', 'PN 98 Y 1431', 'CH 21 OB 9078', 'GA 15 M 8102', 'TR 98 M 1156', 'HR 87 M 9609', 'GJ 43 TG 2168', 'DD 93 MS 9330', 'JK 77 B 7323', 'KA 65 A 3752', 'PY 96 SL 0057', 'PN 59 G 5203', 'WB 13 M 4582', 'MN 26 VM 6219', 'GA 45 DW 1710', 'JK 30 W 8395', 'GJ 71 HN 9003', 'GJ 32 L 4367', 'PN 48 D 7383', 'MZ 50 I 9982', 'TR 73 YX 5992', 'PN 90 GI 9751', 'KL 15 DB 8844', 'DL 63 U 4719', 'TN 14 RC 7808', 'KA 87 TD 3472', 'SK 72 T 3592', 'TN 01 FG 1273', 'DN 24 VC 6295', 'DL 73 QW 9827', 'LD 10 M 9276', 'PY 49 FT 3063', 'KA 83 A 2820', 'TN 35 V 2447', 'MH 15 OI 7492', 'OR 81 D 4087', 'GA 18 M 0946', 'DL 88 X 8526', 'RJ 23 XG 5066', 'MH 89 BI 3061', 'DD 45 BR 5750', 'GA 36 BI 6697', 'SK 68 EP 5720', 'KL 14 N 4115', 'OR 63 M 5236', 'DD 94 X 2908', 'GJ 38 C 9993', 'AN 08 C 5085', 'JK 69 VU 0607', 'SK 10 M 8575', 'MZ 97 L 9245', 'MZ 04 O 1978', 'TR 46 A 3189', 'ML 48 EA 9123', 'BR 76 RR 5194', 'OR 37 D 1554', 'KL 71 S 8096', 'OR 78 K 8960', 'GA 06 CZ 1749', 'MN 16 OH 8922', 'TN 38 R 8914', 'UP 79 H 0436', 'DL 22 YY 0194', 'TR 19 MN 2617', 'OR 77 BN 0057', 'BR 48 E 3000', 'CH 78 EC 4590', 'TR 78 ZI 9866', 'AR 16 M 3716', 'SK 44 VZ 4464', 'AR 34 YL 1685', 'PY 29 P 5535', 'ML 72 UY 8717', 'AR 81 F 5521', 'PY 59 B 0853', 'PN 36 PE 6728', 'KA 35 XL 7122', 'KL 81 Z 2636', 'ML 43 PX 5226', 'ML 59 RF 9693', 'ML 97 SG 1824', 'MZ 43 P 2708', 'TR 99 YM 6572', 'CH 06 XT 3316', 'HR 19 IB 5563', 'AS 46 VE 6062', 'UP 94 I 0572', 'DD 12 FM 1575', 'RJ 12 MQ 8537', 'CH 64 JH 7621', 'AR 07 N 5914', 'JK 12 KX 3258', 'DD 80 O 5678', 'NL 48 G 1570', 'ML 89 ZF 2098', 'BR 25 UF 5351', 'KL 69 KS 4712', 'HP 85 HF 0946', 'AN 23 C 2889', 'DD 94 E 3860', 'LD 15 A 3138', 'RJ 89 HR 6895', 'PN 82 D 7317', 'UP 45 GL 2603', 'NL 99 AY 8658', 'DD 30 GE 2894', 'ML 81 O 5816', 'DN 81 CY 0224', 'RJ 37 P 7356', 'AN 66 S 4210', 'OR 98 Z 1747', 'KL 56 S 6562', 'AR 56 S 6398', 'DD 66 F 8458', 'AS 15 O 2386', 'WB 28 O 6210', 'JK 64 C 6485', 'AN 50 R 4558', 'TN 78 A 9439', 'DL 00 K 3645', 'OR 04 V 9269', 'RJ 69 U 4110', 'UP 48 LF 1819', 'DD 93 U 1993', 'HP 44 K 3592', 'GJ 96 UE 5362', 'JK 74 J 7193', 'MP 58 GS 6701', 'HR 09 NW 4393', 'AN 78 OH 5692', 'DN 45 FZ 1729', 'MN 90 VE 6454', 'MN 13 SV 1582', 'AP 42 A 1320', 'GA 13 CQ 5420', 'AP 16 Z 7087', 'WB 22 OF 6731', 'AS 62 P 6769', 'PY 93 EY 3439', 'GA 97 TK 4049', 'BR 03 F 3529', 'MN 49 U 2187', 'HR 21 TH 6387', 'PY 68 OZ 4731', 'KA 64 GH 3631', 'TR 50 P 7312', 'AR 86 Y 7679', 'LD 27 LL 5883', 'NL 35 CR 4519', 'CH 44 UQ 9511', 'MZ 06 MB 1991', 'TR 65 G 7862', 'KA 01 A 8626', 'TR 48 TQ 3785', 'MZ 24 L 1667', 'AR 63 I 1344', 'KA 99 X 9957', 'MN 69 L 1385', 'NL 12 C 5172', 'MZ 30 D 8039', 'DL 22 N 5627', 'KA 22 Q 1783', 'BR 33 WR 7415', 'UP 33 XZ 8005', 'TN 65 RE 8557', 'OR 38 WG 9968', 'TN 12 H 7328', 'MN 03 FY 2943', 'WB 90 UI 8392', 'MZ 98 VX 4907', 'SK 20 GM 1762', 'BR 72 EV 1428', 'HP 09 EN 6841', 'KA 38 TA 9121', 'JK 38 GN 6276', 'JK 06 F 1329', 'JK 40 I 6848', 'GJ 55 IK 6200', 'MZ 44 NX 0434', 'TN 66 F 8464', 'JK 48 F 4653', 'GA 57 W 2333', 'BR 50 EO 5420', 'JK 86 F 3500', 'MZ 20 EA 1506', 'AS 29 A 3327', 'LD 41 JI 3173', 'UP 54 QM 3745', 'CH 47 P 1609', 'KL 86 YL 0077', 'DD 78 JV 6799', 'TN 20 Y 7887', 'PY 86 ML 8885', 'DD 59 ER 4877', 'AS 01 J 5342', 'TN 96 L 3349', 'JK 83 E 4304', 'TN 45 TY 6444', 'AS 60 QV 9436', 'MZ 86 B 0879', 'HP 28 EV 9636', 'RJ 67 Y 8328', 'KA 86 MC 9775', 'SK 94 GO 4952', 'TN 47 QK 0396', 'AS 61 Z 8183', 'DL 60 K 9203', 'MH 79 Q 7860']\n"
     ]
    }
   ],
   "source": [
    "i = [x for x in jdata['Licnum'] if(jdata['InsExpStatus'][jdata['Licnum'].index(x)]=='Expired')]\n",
    "print(\"Number of vehichles: \",len(i),\"\\n\",i)"
   ]
  },
  {
   "cell_type": "code",
   "execution_count": 18,
   "id": "1a06165a",
   "metadata": {},
   "outputs": [
    {
     "data": {
      "text/html": [
       "<div>\n",
       "<style scoped>\n",
       "    .dataframe tbody tr th:only-of-type {\n",
       "        vertical-align: middle;\n",
       "    }\n",
       "\n",
       "    .dataframe tbody tr th {\n",
       "        vertical-align: top;\n",
       "    }\n",
       "\n",
       "    .dataframe thead th {\n",
       "        text-align: right;\n",
       "    }\n",
       "</style>\n",
       "<table border=\"1\" class=\"dataframe\">\n",
       "  <thead>\n",
       "    <tr style=\"text-align: right;\">\n",
       "      <th></th>\n",
       "      <th>Licnum</th>\n",
       "      <th>Name</th>\n",
       "      <th>LicPreday</th>\n",
       "      <th>LicPreMon</th>\n",
       "      <th>LicPreYear</th>\n",
       "      <th>LicExpStatus</th>\n",
       "      <th>InsPreday</th>\n",
       "      <th>InsPreMon</th>\n",
       "      <th>InsPreYear</th>\n",
       "      <th>InsExpStatus</th>\n",
       "    </tr>\n",
       "  </thead>\n",
       "  <tbody>\n",
       "    <tr>\n",
       "      <th>17</th>\n",
       "      <td>DN 18 X 2382</td>\n",
       "      <td>YMRRZ</td>\n",
       "      <td>26</td>\n",
       "      <td>5</td>\n",
       "      <td>2009</td>\n",
       "      <td>Valid</td>\n",
       "      <td>16</td>\n",
       "      <td>5</td>\n",
       "      <td>2001</td>\n",
       "      <td>Expired</td>\n",
       "    </tr>\n",
       "    <tr>\n",
       "      <th>24</th>\n",
       "      <td>HP 11 LG 3445</td>\n",
       "      <td>GSFKU</td>\n",
       "      <td>20</td>\n",
       "      <td>10</td>\n",
       "      <td>2019</td>\n",
       "      <td>Valid</td>\n",
       "      <td>25</td>\n",
       "      <td>9</td>\n",
       "      <td>2001</td>\n",
       "      <td>Expired</td>\n",
       "    </tr>\n",
       "    <tr>\n",
       "      <th>34</th>\n",
       "      <td>OR 81 VV 1927</td>\n",
       "      <td>JTNUY</td>\n",
       "      <td>3</td>\n",
       "      <td>12</td>\n",
       "      <td>2005</td>\n",
       "      <td>Valid</td>\n",
       "      <td>10</td>\n",
       "      <td>9</td>\n",
       "      <td>2001</td>\n",
       "      <td>Expired</td>\n",
       "    </tr>\n",
       "    <tr>\n",
       "      <th>39</th>\n",
       "      <td>OR 70 GK 1078</td>\n",
       "      <td>HPKWA</td>\n",
       "      <td>22</td>\n",
       "      <td>8</td>\n",
       "      <td>2018</td>\n",
       "      <td>Valid</td>\n",
       "      <td>22</td>\n",
       "      <td>3</td>\n",
       "      <td>2001</td>\n",
       "      <td>Expired</td>\n",
       "    </tr>\n",
       "    <tr>\n",
       "      <th>67</th>\n",
       "      <td>TN 14 E 4657</td>\n",
       "      <td>XPIPW</td>\n",
       "      <td>3</td>\n",
       "      <td>11</td>\n",
       "      <td>2012</td>\n",
       "      <td>Valid</td>\n",
       "      <td>10</td>\n",
       "      <td>7</td>\n",
       "      <td>2001</td>\n",
       "      <td>Expired</td>\n",
       "    </tr>\n",
       "    <tr>\n",
       "      <th>...</th>\n",
       "      <td>...</td>\n",
       "      <td>...</td>\n",
       "      <td>...</td>\n",
       "      <td>...</td>\n",
       "      <td>...</td>\n",
       "      <td>...</td>\n",
       "      <td>...</td>\n",
       "      <td>...</td>\n",
       "      <td>...</td>\n",
       "      <td>...</td>\n",
       "    </tr>\n",
       "    <tr>\n",
       "      <th>9847</th>\n",
       "      <td>SK 94 GO 4952</td>\n",
       "      <td>NGNZR</td>\n",
       "      <td>18</td>\n",
       "      <td>1</td>\n",
       "      <td>2021</td>\n",
       "      <td>Valid</td>\n",
       "      <td>18</td>\n",
       "      <td>4</td>\n",
       "      <td>2001</td>\n",
       "      <td>Expired</td>\n",
       "    </tr>\n",
       "    <tr>\n",
       "      <th>9886</th>\n",
       "      <td>TN 47 QK 0396</td>\n",
       "      <td>HATCF</td>\n",
       "      <td>18</td>\n",
       "      <td>1</td>\n",
       "      <td>2002</td>\n",
       "      <td>Valid</td>\n",
       "      <td>13</td>\n",
       "      <td>2</td>\n",
       "      <td>2001</td>\n",
       "      <td>Expired</td>\n",
       "    </tr>\n",
       "    <tr>\n",
       "      <th>9887</th>\n",
       "      <td>AS 61 Z 8183</td>\n",
       "      <td>MCXVO</td>\n",
       "      <td>31</td>\n",
       "      <td>12</td>\n",
       "      <td>2012</td>\n",
       "      <td>Valid</td>\n",
       "      <td>14</td>\n",
       "      <td>7</td>\n",
       "      <td>2001</td>\n",
       "      <td>Expired</td>\n",
       "    </tr>\n",
       "    <tr>\n",
       "      <th>9892</th>\n",
       "      <td>DL 60 K 9203</td>\n",
       "      <td>QBKAV</td>\n",
       "      <td>14</td>\n",
       "      <td>9</td>\n",
       "      <td>2001</td>\n",
       "      <td>Expired</td>\n",
       "      <td>13</td>\n",
       "      <td>8</td>\n",
       "      <td>2001</td>\n",
       "      <td>Expired</td>\n",
       "    </tr>\n",
       "    <tr>\n",
       "      <th>9936</th>\n",
       "      <td>MH 79 Q 7860</td>\n",
       "      <td>BHEQQ</td>\n",
       "      <td>20</td>\n",
       "      <td>11</td>\n",
       "      <td>2019</td>\n",
       "      <td>Valid</td>\n",
       "      <td>14</td>\n",
       "      <td>6</td>\n",
       "      <td>2001</td>\n",
       "      <td>Expired</td>\n",
       "    </tr>\n",
       "  </tbody>\n",
       "</table>\n",
       "<p>347 rows × 10 columns</p>\n",
       "</div>"
      ],
      "text/plain": [
       "             Licnum   Name  LicPreday  LicPreMon  LicPreYear LicExpStatus  \\\n",
       "17     DN 18 X 2382  YMRRZ         26          5        2009        Valid   \n",
       "24    HP 11 LG 3445  GSFKU         20         10        2019        Valid   \n",
       "34    OR 81 VV 1927  JTNUY          3         12        2005        Valid   \n",
       "39    OR 70 GK 1078  HPKWA         22          8        2018        Valid   \n",
       "67     TN 14 E 4657  XPIPW          3         11        2012        Valid   \n",
       "...             ...    ...        ...        ...         ...          ...   \n",
       "9847  SK 94 GO 4952  NGNZR         18          1        2021        Valid   \n",
       "9886  TN 47 QK 0396  HATCF         18          1        2002        Valid   \n",
       "9887   AS 61 Z 8183  MCXVO         31         12        2012        Valid   \n",
       "9892   DL 60 K 9203  QBKAV         14          9        2001      Expired   \n",
       "9936   MH 79 Q 7860  BHEQQ         20         11        2019        Valid   \n",
       "\n",
       "      InsPreday  InsPreMon  InsPreYear InsExpStatus  \n",
       "17           16          5        2001      Expired  \n",
       "24           25          9        2001      Expired  \n",
       "34           10          9        2001      Expired  \n",
       "39           22          3        2001      Expired  \n",
       "67           10          7        2001      Expired  \n",
       "...         ...        ...         ...          ...  \n",
       "9847         18          4        2001      Expired  \n",
       "9886         13          2        2001      Expired  \n",
       "9887         14          7        2001      Expired  \n",
       "9892         13          8        2001      Expired  \n",
       "9936         14          6        2001      Expired  \n",
       "\n",
       "[347 rows x 10 columns]"
      ]
     },
     "execution_count": 18,
     "metadata": {},
     "output_type": "execute_result"
    }
   ],
   "source": [
    "data[data['InsExpStatus']=='Expired']"
   ]
  },
  {
   "cell_type": "code",
   "execution_count": 19,
   "id": "ed0a0eb1",
   "metadata": {},
   "outputs": [
    {
     "data": {
      "text/plain": [
       "dict_keys(['Licnum', 'Name', 'LicPreday', 'LicPreMon', 'LicPreYear', 'LicExpStatus', 'InsPreday', 'InsPreMon', 'InsPreYear', 'InsExpStatus'])"
      ]
     },
     "execution_count": 19,
     "metadata": {},
     "output_type": "execute_result"
    }
   ],
   "source": [
    "jdata.keys()"
   ]
  },
  {
   "cell_type": "code",
   "execution_count": null,
   "id": "b89f0fe7",
   "metadata": {},
   "outputs": [],
   "source": []
  }
 ],
 "metadata": {
  "kernelspec": {
   "display_name": "Python 3",
   "language": "python",
   "name": "python3"
  },
  "language_info": {
   "codemirror_mode": {
    "name": "ipython",
    "version": 3
   },
   "file_extension": ".py",
   "mimetype": "text/x-python",
   "name": "python",
   "nbconvert_exporter": "python",
   "pygments_lexer": "ipython3",
   "version": "3.8.8"
  }
 },
 "nbformat": 4,
 "nbformat_minor": 5
}
